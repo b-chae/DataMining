{
  "nbformat": 4,
  "nbformat_minor": 0,
  "metadata": {
    "colab": {
      "name": "DataMining.ipynb",
      "provenance": [],
      "toc_visible": true
    },
    "kernelspec": {
      "name": "python3",
      "display_name": "Python 3"
    }
  },
  "cells": [
    {
      "cell_type": "markdown",
      "metadata": {
        "id": "Y5vt8qS-t-5P",
        "colab_type": "text"
      },
      "source": [
        "# Data Mining : 재난 문자 분류하기\n",
        " **1) 데이터 속성 파악하기**"
      ]
    },
    {
      "cell_type": "code",
      "metadata": {
        "id": "8-Cgb_KFr-g_",
        "colab_type": "code",
        "outputId": "41c04506-99c0-4bad-bc8e-d1e3d3ce846e",
        "colab": {
          "base_uri": "https://localhost:8080/",
          "height": 521
        }
      },
      "source": [
        "import numpy as np\n",
        "import pandas as pd\n",
        "%matplotlib inline\n",
        "import matplotlib.pyplot as plt\n",
        "from tensorflow.keras.preprocessing.text import Tokenizer\n",
        "from tensorflow.keras.preprocessing.sequence import pad_sequences\n",
        "\n",
        "data = pd.read_csv('train.csv', encoding='utf-8')\n",
        "print(data)\n",
        "print()\n",
        "print()\n",
        "data.info()"
      ],
      "execution_count": 396,
      "outputs": [
        {
          "output_type": "stream",
          "text": [
            "         id keyword  ...                                               text target\n",
            "0         1     NaN  ...  Our Deeds are the Reason of this #earthquake M...      1\n",
            "1         4     NaN  ...             Forest fire near La Ronge Sask. Canada      1\n",
            "2         5     NaN  ...  All residents asked to 'shelter in place' are ...      1\n",
            "3         6     NaN  ...  13,000 people receive #wildfires evacuation or...      1\n",
            "4         7     NaN  ...  Just got sent this photo from Ruby #Alaska as ...      1\n",
            "...     ...     ...  ...                                                ...    ...\n",
            "7608  10869     NaN  ...  Two giant cranes holding a bridge collapse int...      1\n",
            "7609  10870     NaN  ...  @aria_ahrary @TheTawniest The out of control w...      1\n",
            "7610  10871     NaN  ...  M1.94 [01:04 UTC]?5km S of Volcano Hawaii. htt...      1\n",
            "7611  10872     NaN  ...  Police investigating after an e-bike collided ...      1\n",
            "7612  10873     NaN  ...  The Latest: More Homes Razed by Northern Calif...      1\n",
            "\n",
            "[7613 rows x 5 columns]\n",
            "\n",
            "\n",
            "<class 'pandas.core.frame.DataFrame'>\n",
            "RangeIndex: 7613 entries, 0 to 7612\n",
            "Data columns (total 5 columns):\n",
            " #   Column    Non-Null Count  Dtype \n",
            "---  ------    --------------  ----- \n",
            " 0   id        7613 non-null   int64 \n",
            " 1   keyword   7552 non-null   object\n",
            " 2   location  5080 non-null   object\n",
            " 3   text      7613 non-null   object\n",
            " 4   target    7613 non-null   int64 \n",
            "dtypes: int64(2), object(3)\n",
            "memory usage: 297.5+ KB\n"
          ],
          "name": "stdout"
        }
      ]
    },
    {
      "cell_type": "markdown",
      "metadata": {
        "id": "GHpib2ktubU5",
        "colab_type": "text"
      },
      "source": [
        "**2) 중복 샘플 제거하기**"
      ]
    },
    {
      "cell_type": "code",
      "metadata": {
        "id": "Lu14Fr6Et9rH",
        "colab_type": "code",
        "outputId": "a9de8b38-9390-4edb-bed9-5701d863e127",
        "colab": {
          "base_uri": "https://localhost:8080/",
          "height": 352
        }
      },
      "source": [
        "data.drop_duplicates(subset=['text'], inplace=True)\n",
        "print('중복 제거 후 총 샘플의 수 : ', len(data))\n",
        "print()\n",
        "\n",
        "data['target'].value_counts().plot(kind='bar');\n",
        "print(data.groupby('target').size().reset_index(name='count'))"
      ],
      "execution_count": 397,
      "outputs": [
        {
          "output_type": "stream",
          "text": [
            "중복 제거 후 총 샘플의 수 :  7503\n",
            "\n",
            "   target  count\n",
            "0       0   4305\n",
            "1       1   3198\n"
          ],
          "name": "stdout"
        },
        {
          "output_type": "display_data",
          "data": {
            "image/png": "[encoded data removed]",
            "text/plain": [
              "<Figure size 432x288 with 1 Axes>"
            ]
          },
          "metadata": {
            "tags": [],
            "needs_background": "light"
          }
        }
      ]
    },
    {
      "cell_type": "code",
      "metadata": {
        "id": "Ol0I6FkWtlHq",
        "colab_type": "code",
        "outputId": "89ba1ef3-a31d-4dde-981b-c93391810349",
        "colab": {
          "base_uri": "https://localhost:8080/",
          "height": 53
        }
      },
      "source": [
        "Texts = data['text']\n",
        "Targets = data['target']\n",
        "print('트위터 text 내용의 개수 : ', len(Texts))\n",
        "print('레이블의 개수 : ', len(Targets));"
      ],
      "execution_count": 398,
      "outputs": [
        {
          "output_type": "stream",
          "text": [
            "트위터 text 내용의 개수 :  7503\n",
            "레이블의 개수 :  7503\n"
          ],
          "name": "stdout"
        }
      ]
    },
    {
      "cell_type": "markdown",
      "metadata": {
        "id": "IFlahYDSFX3d",
        "colab_type": "text"
      },
      "source": [
        "- 줄임말(Abbreviation) 풀어쓰기\n",
        "- 축약 풀어쓰기(Decontraction)\n",
        "- 3자리 이상 숫자일 경우 하나로 퉁치기"
      ]
    },
    {
      "cell_type": "code",
      "metadata": {
        "id": "o52gcG_NFa47",
        "colab_type": "code",
        "colab": {
          "base_uri": "https://localhost:8080/",
          "height": 395
        },
        "outputId": "94907013-fa20-4bee-94d1-5f0c13cf5f56"
      },
      "source": [
        "print(Texts[:10])\n",
        "\n",
        "slang_abbrev_dict = {\n",
        "    ' AFAIK ': 'As Far As I Know', ' AFK ': 'Away From Keyboard', ' ASAP ': 'As Soon As Possible', ' ATK ': 'At The Keyboard',\n",
        "    ' ATM ': 'At The Moment', ' A3 ': 'Anytime, Anywhere, Anyplace', ' BAK ': 'Back At Keyboard', ' BBL ': 'Be Back Later',\n",
        "    ' BBS ': 'Be Back Soon', ' BFN ': 'Bye For Now', ' B4N ': 'Bye For Now', ' BRB ': 'Be Right Back',' BRT ': 'Be Right There',\n",
        "    ' BTW ': 'By The Way',' B4 ': 'Before',' B4N ': 'Bye For Now',' CU ': 'See You',' CUL8R ': 'See You Later',\n",
        "    ' CYA ': 'See You',' FAQ ': 'Frequently Asked Questions',' FC ': 'Fingers Crossed',' FWIW ': 'For What It\\'s Worth',' FYI ': 'For Your Information',' GAL ': 'Get A Life',\n",
        "    ' GG ': 'Good Game',' GN ': 'Good Night',' GMTA ': 'Great Minds Think Alike',' GR8 ': 'Great!',' G9 ': 'Genius',\n",
        "    ' IC ': 'I See',' ICQ ': 'I Seek you',' ILU ': 'I Love You',' IMHO ': 'In My Humble Opinion',' IMO ': 'In My Opinion',' IOW ': 'In Other Words',\n",
        "    ' IRL ': 'In Real Life',' KISS ': 'Keep It Simple, Stupid',' LDR ': 'Long Distance Relationship',' LMAO ': 'Laugh My Ass Off',' LOL ': 'Laughing Out Loud',\n",
        "    ' LTNS ': 'Long Time No See',' L8R ': 'Later',' MTE ': 'My Thoughts Exactly',' M8 ': 'Mate',' NRN ': 'No Reply Necessary',\n",
        "    ' OIC ': 'Oh I See',' OMG ': 'Oh My God',' PITA ': 'Pain In The Ass',' PRT ': 'Party',' PRW ': 'Parents Are Watching',' QPSA? ': 'Que Pasa?',\n",
        "    ' ROFL ': 'Rolling On The Floor Laughing',' ROFLOL ': 'Rolling On The Floor Laughing Out Loud',' ROTFLMAO ': 'Rolling On The Floor Laughing My Ass Off',' SK8 ': 'Skate',\n",
        "    ' STATS ': 'Your sex and age',' ASL ': 'Age, Sex, Location',' THX ': 'Thank You',' TTFN ': 'Ta-Ta For Now!',' TTYL ': 'Talk To You Later',' U ': 'You',' U2 ': 'You Too',\n",
        "    ' U4E ': 'Yours For Ever',' WB ': 'Welcome Back',' WTF ': 'What The Fuck',' WTG ': 'Way To Go!',' WUF ': 'Where Are You From?',\n",
        "    ' W8 ': 'Wait',' 7K ': 'Sick:-D Laugher',\n",
        "    ' RN ': 'Right Now', 'IDK' : 'I Do not Know'\n",
        "}\n",
        "\n",
        "import re\n",
        "\n",
        "Texts = np.array(Texts)\n",
        "\n",
        "for i in range(len(Texts)):\n",
        "  text = \" \" + Texts[i].upper() + \" \"\n",
        "\n",
        "  for slang in slang_abbrev_dict.items():\n",
        "    if text.find(slang[0]) != -1:\n",
        "      text = re.sub(slang[0], \" \" + slang[1] + \" \", text)\n",
        "\n",
        "  text = text.lower()\n",
        "  text = re.sub(\" won\\'t \", \" will not \", text, flags=re.MULTILINE)\n",
        "  text = re.sub(\" can\\'t \", \" cannot \", text, flags=re.MULTILINE)\n",
        "\n",
        "  text = re.sub(\"\\'re \", \" are \", text, flags=re.MULTILINE)\n",
        "  text = re.sub(\"\\'s \", \" is \", text, flags=re.MULTILINE)\n",
        "  text = re.sub(\"\\'d \", \" would \", text, flags=re.MULTILINE)\n",
        "  text = re.sub(\"\\'ll \", \" will \", text, flags=re.MULTILINE)\n",
        "  text = re.sub(\"\\'m \", \" am \", text, flags=re.MULTILINE)\n",
        "  text = re.sub(\"\\n't \", \" not \", text, flags=re.MULTILINE)\n",
        "  text = re.sub(\"\\'ve \", \" have \", text, flags=re.MULTILINE)\n",
        "\n",
        "  text = re.sub(' [0-9][,|0-9]*[0-9] ', ' specificnumberhere ', text)\n",
        "  # text = re.sub(' #', ' hashtag ', text)\n",
        "\n",
        "  Texts[i] = text\n",
        "\n",
        "print(Texts[:10])\n",
        "\n",
        "AfterText = Texts"
      ],
      "execution_count": 399,
      "outputs": [
        {
          "output_type": "stream",
          "text": [
            "0    Our Deeds are the Reason of this #earthquake M...\n",
            "1               Forest fire near La Ronge Sask. Canada\n",
            "2    All residents asked to 'shelter in place' are ...\n",
            "3    13,000 people receive #wildfires evacuation or...\n",
            "4    Just got sent this photo from Ruby #Alaska as ...\n",
            "5    #RockyFire Update => California Hwy. 20 closed...\n",
            "6    #flood #disaster Heavy rain causes flash flood...\n",
            "7    I'm on top of the hill and I can see a fire in...\n",
            "8    There's an emergency evacuation happening now ...\n",
            "9    I'm afraid that the tornado is coming to our a...\n",
            "Name: text, dtype: object\n",
            "[' our deeds are the reason of this #earthquake may allah forgive us all '\n",
            " ' forest fire near la ronge sask. canada '\n",
            " \" all residents asked to 'shelter in place' are being notified by officers. no other evacuation or shelter in place orders are expected \"\n",
            " ' specificnumberhere people receive #wildfires evacuation orders in california  '\n",
            " ' just got sent this photo from ruby #alaska as smoke from #wildfires pours into a school  '\n",
            " ' #rockyfire update => california hwy. specificnumberhere closed in both directions due to lake county fire - #cafire #wildfires '\n",
            " ' #flood #disaster heavy rain causes flash flooding of streets in manitou, colorado springs areas '\n",
            " ' i am on top of the hill and i can see a fire in the woods... '\n",
            " ' there is an emergency evacuation happening now in the building across the street '\n",
            " ' i am afraid that the tornado is coming to our area... ']\n"
          ],
          "name": "stdout"
        }
      ]
    },
    {
      "cell_type": "markdown",
      "metadata": {
        "id": "N8kSEqcHvTap",
        "colab_type": "text"
      },
      "source": [
        "**3) 토큰화, 텍스트 길이 살펴보기**"
      ]
    },
    {
      "cell_type": "code",
      "metadata": {
        "id": "ZjQr7HdvvVdQ",
        "colab_type": "code",
        "outputId": "aa28da5c-4695-4914-c2a7-c169919e1f08",
        "colab": {
          "base_uri": "https://localhost:8080/",
          "height": 73
        }
      },
      "source": [
        "tokenizer = Tokenizer()\n",
        "tokenizer.fit_on_texts(Texts)\n",
        "sequences = tokenizer.texts_to_sequences(Texts)\n",
        "print(sequences[:5])\n",
        "print()\n",
        "word_to_index = tokenizer.word_index"
      ],
      "execution_count": 402,
      "outputs": [
        {
          "output_type": "stream",
          "text": [
            "[[116, 4483, 21, 4, 839, 8, 23, 263, 137, 1865, 4484, 89, 44], [186, 46, 236, 769, 6720, 6721, 1173], [44, 1689, 1448, 7, 6722, 6, 6723, 21, 136, 6724, 22, 1690, 42, 403, 281, 61, 2071, 6, 708, 1354, 21, 1064], [15, 65, 4485, 1449, 281, 1354, 6, 94], [37, 97, 1174, 23, 311, 26, 6725, 1866, 32, 264, 26, 1449, 6726, 73, 5, 184]]\n",
            "\n"
          ],
          "name": "stdout"
        }
      ]
    },
    {
      "cell_type": "code",
      "metadata": {
        "id": "Z5LGEnHnxlnI",
        "colab_type": "code",
        "outputId": "f5035e78-94ee-4e54-f0aa-434de3b7caa2",
        "colab": {
          "base_uri": "https://localhost:8080/",
          "height": 71
        }
      },
      "source": [
        "threshold = 2\n",
        "total_cnt = len(word_to_index)\n",
        "rare_cnt = 0\n",
        "total_freq = 0\n",
        "rare_freq = 0\n",
        "\n",
        "for key, value in tokenizer.word_counts.items():\n",
        "  total_freq = total_freq + value\n",
        "\n",
        "  if(value < threshold):\n",
        "    rare_cnt = rare_cnt + 1\n",
        "    rare_freq = rare_freq + value\n",
        "\n",
        "print('등장 빈도가 1번 이하인 희귀 단어의 수 : ', rare_cnt)\n",
        "print('단어 집합에서 희귀 단어의 비율 : ', (rare_cnt / total_cnt) * 100)\n",
        "print('전체 등장 빈도에서 희귀 단어 등장 빈도 비율 : ', (rare_cnt/ total_freq) * 100)"
      ],
      "execution_count": 403,
      "outputs": [
        {
          "output_type": "stream",
          "text": [
            "등장 빈도가 1번 이하인 희귀 단어의 수 :  15630\n",
            "단어 집합에서 희귀 단어의 비율 :  69.93601503422971\n",
            "전체 등장 빈도에서 희귀 단어 등장 빈도 비율 :  12.228420319675786\n"
          ],
          "name": "stdout"
        }
      ]
    },
    {
      "cell_type": "code",
      "metadata": {
        "id": "VBoT0A-k0Rj_",
        "colab_type": "code",
        "outputId": "921df8f4-140d-40b2-9db2-64e87167b41f",
        "colab": {
          "base_uri": "https://localhost:8080/",
          "height": 127
        }
      },
      "source": [
        "Texts = sequences\n",
        "print('텍스트의 최대 길이 : ', max(len(l) for l in Texts))\n",
        "print('텍스트의 최소 길이 : ', min(len(l) for l in Texts))\n",
        "print('텍스트의 평균 길이 : ', (sum(map(len, Texts))/len(Texts)))\n",
        "\n",
        "print()\n",
        "print(sequences[:5])"
      ],
      "execution_count": 406,
      "outputs": [
        {
          "output_type": "stream",
          "text": [
            "텍스트의 최대 길이 :  34\n",
            "텍스트의 최소 길이 :  1\n",
            "텍스트의 평균 길이 :  17.035452485672398\n",
            "\n",
            "[[116, 4483, 21, 4, 839, 8, 23, 263, 137, 1865, 4484, 89, 44], [186, 46, 236, 769, 6720, 6721, 1173], [44, 1689, 1448, 7, 6722, 6, 6723, 21, 136, 6724, 22, 1690, 42, 403, 281, 61, 2071, 6, 708, 1354, 21, 1064], [15, 65, 4485, 1449, 281, 1354, 6, 94], [37, 97, 1174, 23, 311, 26, 6725, 1866, 32, 264, 26, 1449, 6726, 73, 5, 184]]\n"
          ],
          "name": "stdout"
        }
      ]
    },
    {
      "cell_type": "code",
      "metadata": {
        "id": "D-G1YjeC0n1Q",
        "colab_type": "code",
        "outputId": "04f5fe73-8fa5-4558-b472-bf971993af68",
        "colab": {
          "base_uri": "https://localhost:8080/",
          "height": 279
        }
      },
      "source": [
        "plt.hist([len(s) for s in Texts], bins=30)\n",
        "plt.xlabel('length of samples')\n",
        "plt.ylabel('number of samples')\n",
        "plt.show()"
      ],
      "execution_count": 407,
      "outputs": [
        {
          "output_type": "display_data",
          "data": {
            "image/png": "[encoded data removed]",
            "text/plain": [
              "<Figure size 432x288 with 1 Axes>"
            ]
          },
          "metadata": {
            "tags": [],
            "needs_background": "light"
          }
        }
      ]
    },
    {
      "cell_type": "markdown",
      "metadata": {
        "id": "CzXuljsq_Am8",
        "colab_type": "text"
      },
      "source": [
        "**4) 빈도 수가 낮은 희귀 단어 제거하기**"
      ]
    },
    {
      "cell_type": "code",
      "metadata": {
        "id": "7cxd5wfK96pd",
        "colab_type": "code",
        "colab": {}
      },
      "source": [
        "Texts = AfterText\n",
        "tokenizer = Tokenizer(num_words = total_cnt - rare_cnt + 1)\n",
        "tokenizer.fit_on_texts(Texts)\n",
        "sequences = tokenizer.texts_to_sequences(Texts)\n",
        "word_to_index = tokenizer.word_index"
      ],
      "execution_count": 0,
      "outputs": []
    },
    {
      "cell_type": "markdown",
      "metadata": {
        "id": "o2EJ_yLw_vKp",
        "colab_type": "text"
      },
      "source": [
        "**5) 길이가 2 이하인 단어 제거하기**"
      ]
    },
    {
      "cell_type": "code",
      "metadata": {
        "id": "UCQt4yLy_iqU",
        "colab_type": "code",
        "outputId": "e46e185c-2217-4480-b684-69792e63463a",
        "colab": {
          "base_uri": "https://localhost:8080/",
          "height": 73
        }
      },
      "source": [
        "print('길이 2 이하인 단어 제거 : ')\n",
        "for word in word_to_index.items():\n",
        "  if len(word[0]) <= 2:\n",
        "    print(word[0], end = ' ')\n",
        "    for sequence in sequences:\n",
        "      if word[1] in sequence:\n",
        "        sequence.remove(word[1])"
      ],
      "execution_count": 410,
      "outputs": [
        {
          "output_type": "stream",
          "text": [
            "길이 2 이하인 단어 제거 : \n",
            "t co a in to of i is on it my at by be as me up am so no we an he if 2 or do ' 3 us 1 rt s gt go 4 5 w û 8 pm 9 6 im u oh 08 m 7 p d n ok o 0 10 st b 00 r c lt ur mp 'i 11 bc 05 tv x 01 rd e la 06 15 uk ca vs dr 16 30 v de f 07 ap re 17 hi 04 el 18 29 l 50 mr ft nc un ii 25 24 j da 20 yo gm ah h ar 21 g 40 em ya dc al af di wa 12 09 ny id 75 k va ha ep sw mt wx 23 22 13 99 ms 90 pc se yr fr 52 54 ex xd ig en av ps ir mo 'a po 95 nu md i5 np nd th hd 26 dk 3g 77 03 eu cr z 70 y jr tf ty bp tr åè sa åê eb mi 36 wy 60 32 rs ns eq 94 14 nw 1' sp oc fb nb sb gf cd eh ik aa q tb 28 dj bu wo dq bs ga ee mf ed 19 op er sf wi ag ne 35 cm å¨ dw fd 34 ut aw 02 97 nm ev sm m1 ak hr os ts 45 sr nh tc xv mc pt wd m4 fm te ve rn å jp 98 et uh pp bg 1m 48 åç 3x 33 km fi si 27 4' 57 sj 0l ma ke nv vi 43 ml cs ac 65 5' 7p 7a ks tn bn dm sn ky nj cc bi aq ad rb a1 a5 1a 5s 5c ay tj ll 3m 41 pa 8m 58 3a bb az 'x 2a pd ae bk xl ìñ vp ai 88 92 74 ch pl mb q1 rq ye sg cg 38 ra 6c å¤ ìü br js wr ri rl mv 2' ov q2 v4 sl bd oo g3 b2 fe eo mm ux bf 4k na ln 'h yh 83 ce kp mh bv ls sq tg ib uv kc 't fn gh v6 5l l6 l4 6l v8 93 ki 55 hw rc ds x2 'm tx 3p gc 51 bj pb sh 82 lk mk c7 gd mn k3 ho 87 fl rp cw e1 nf sd gv gg lh pg mx ba jj io wk s5 nl a7 a2 yu g7 62 ge cl ja oi fo dt hm dl gn ud 44 fu 37 su p2 hs 1d ey 56 m5 2d 3d m3 ru '' um vì ou ww ì¢ lu cn wc 61 xo gr rv nz qz dx tu tt ef gi ct es au 6m ab fa wn ij 2b 79 7' 53 49 jt fx "
          ],
          "name": "stdout"
        }
      ]
    },
    {
      "cell_type": "markdown",
      "metadata": {
        "id": "epbLCiVB2B_u",
        "colab_type": "text"
      },
      "source": [
        "**6) RNN으로 분류하기**"
      ]
    },
    {
      "cell_type": "code",
      "metadata": {
        "id": "69-SCfQO2RfN",
        "colab_type": "code",
        "outputId": "9d40a794-5d24-413e-940d-eb6d8cd5c47b",
        "colab": {
          "base_uri": "https://localhost:8080/",
          "height": 89
        }
      },
      "source": [
        "max_len = max(len(l) for l in sequences)\n",
        "data = pad_sequences(sequences, maxlen = max_len)\n",
        "print('훈련 데이터의 shape: ', data.shape)\n",
        "\n",
        "n_of_train = int(len(Texts)* 0.9)\n",
        "print('전체 데이터의 크기 : ', len(Texts))\n",
        "print('훈련 데이터의 크기 : ', n_of_train)\n",
        "print('테스트 데이터의 크기 : ', len(Texts) - n_of_train)\n",
        "\n",
        "X_test = data[n_of_train:]\n",
        "Y_test = np.array(Targets[n_of_train:])\n",
        "X_train = data[:n_of_train]\n",
        "Y_train = np.array(Targets[:n_of_train])"
      ],
      "execution_count": 411,
      "outputs": [
        {
          "output_type": "stream",
          "text": [
            "훈련 데이터의 shape:  (7503, 26)\n",
            "전체 데이터의 크기 :  7503\n",
            "훈련 데이터의 크기 :  6752\n",
            "테스트 데이터의 크기 :  751\n"
          ],
          "name": "stdout"
        }
      ]
    },
    {
      "cell_type": "code",
      "metadata": {
        "id": "iWQf3WNr2GGN",
        "colab_type": "code",
        "outputId": "2fd17e52-8854-45ae-eaf2-838bcb437edc",
        "colab": {
          "base_uri": "https://localhost:8080/",
          "height": 395
        }
      },
      "source": [
        "from tensorflow.keras.layers import SimpleRNN, Activation, Embedding, Dense, Dropout, Flatten\n",
        "from tensorflow.keras.models import Sequential\n",
        "\n",
        "vocab_size = len(word_to_index) + 1\n",
        "print(vocab_size)\n",
        "\n",
        "model = Sequential()\n",
        "model.add(Embedding(vocab_size, 32))\n",
        "model.add(SimpleRNN(64, dropout = 0.5))\n",
        "model.add(Dense(1, activation = 'sigmoid'))\n",
        "\n",
        "model.summary()\n",
        "\n",
        "model.compile(optimizer='rmsprop', loss='binary_crossentropy', metrics=['acc'])\n",
        "history = model.fit(X_train, Y_train, epochs = 3, batch_size = 16, validation_split = 0.2)"
      ],
      "execution_count": 429,
      "outputs": [
        {
          "output_type": "stream",
          "text": [
            "22350\n",
            "Model: \"sequential_123\"\n",
            "_________________________________________________________________\n",
            "Layer (type)                 Output Shape              Param #   \n",
            "=================================================================\n",
            "embedding_123 (Embedding)    (None, None, 32)          715200    \n",
            "_________________________________________________________________\n",
            "simple_rnn_97 (SimpleRNN)    (None, 64)                6208      \n",
            "_________________________________________________________________\n",
            "dense_195 (Dense)            (None, 1)                 65        \n",
            "=================================================================\n",
            "Total params: 721,473\n",
            "Trainable params: 721,473\n",
            "Non-trainable params: 0\n",
            "_________________________________________________________________\n",
            "Epoch 1/3\n",
            "338/338 [==============================] - 3s 10ms/step - loss: 0.6377 - acc: 0.6365 - val_loss: 0.5449 - val_acc: 0.7417\n",
            "Epoch 2/3\n",
            "338/338 [==============================] - 3s 10ms/step - loss: 0.4933 - acc: 0.7663 - val_loss: 0.5142 - val_acc: 0.7594\n",
            "Epoch 3/3\n",
            "338/338 [==============================] - 3s 9ms/step - loss: 0.3990 - acc: 0.8280 - val_loss: 0.5054 - val_acc: 0.7668\n"
          ],
          "name": "stdout"
        }
      ]
    },
    {
      "cell_type": "code",
      "metadata": {
        "id": "uXbX9KuD5DZt",
        "colab_type": "code",
        "outputId": "5e8c0b67-9449-407f-cb31-477df8dc8ba5",
        "colab": {
          "base_uri": "https://localhost:8080/",
          "height": 71
        }
      },
      "source": [
        "print(\"\\n 테스트 정확도 : %.3f\" % (model.evaluate(X_test, Y_test)[1]))"
      ],
      "execution_count": 430,
      "outputs": [
        {
          "output_type": "stream",
          "text": [
            "24/24 [==============================] - 0s 3ms/step - loss: 0.4751 - acc: 0.7723\n",
            "\n",
            " 테스트 정확도 : 0.772\n"
          ],
          "name": "stdout"
        }
      ]
    },
    {
      "cell_type": "code",
      "metadata": {
        "id": "OTb72TLF5mD2",
        "colab_type": "code",
        "outputId": "a13bde11-4796-472c-f7e4-98c33a75e046",
        "colab": {
          "base_uri": "https://localhost:8080/",
          "height": 295
        }
      },
      "source": [
        "epochs = range(1, len(history.history['acc']) + 1)\n",
        "plt.plot(epochs, history.history['loss'])\n",
        "plt.plot(epochs, history.history['val_loss'])\n",
        "plt.title('model loss')\n",
        "plt.ylabel('loss')\n",
        "plt.xlabel('epoch')\n",
        "plt.legend(['train', 'val'], loc = 'upper left')\n",
        "plt.show()"
      ],
      "execution_count": 431,
      "outputs": [
        {
          "output_type": "display_data",
          "data": {
            "image/png": "[encoded data removed]",
            "text/plain": [
              "<Figure size 432x288 with 1 Axes>"
            ]
          },
          "metadata": {
            "tags": [],
            "needs_background": "light"
          }
        }
      ]
    }
  ]
}