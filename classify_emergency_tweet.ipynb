{
  "nbformat": 4,
  "nbformat_minor": 0,
  "metadata": {
    "colab": {
      "name": "DataMining.ipynb",
      "provenance": []
    },
    "kernelspec": {
      "name": "python3",
      "display_name": "Python 3"
    }
  },
  "cells": [
    {
      "cell_type": "markdown",
      "metadata": {
        "id": "Y5vt8qS-t-5P",
        "colab_type": "text"
      },
      "source": [
        "# Data Mining : 재난 문자 분류하기\n",
        " **1) 데이터 속성 파악하기**"
      ]
    },
    {
      "cell_type": "code",
      "metadata": {
        "id": "8-Cgb_KFr-g_",
        "colab_type": "code",
        "colab": {
          "base_uri": "https://localhost:8080/",
          "height": 521
        },
        "outputId": "f4e6d2ce-b088-49af-a317-c9ddac8a5454"
      },
      "source": [
        "import numpy as np\n",
        "import pandas as pd\n",
        "%matplotlib inline\n",
        "import matplotlib.pyplot as plt\n",
        "from tensorflow.keras.preprocessing.text import Tokenizer\n",
        "from tensorflow.keras.preprocessing.sequence import pad_sequences\n",
        "\n",
        "data = pd.read_csv('train.csv', encoding='utf-8')\n",
        "print(data)\n",
        "print()\n",
        "print()\n",
        "data.info()"
      ],
      "execution_count": 315,
      "outputs": [
        {
          "output_type": "stream",
          "text": [
            "         id keyword  ...                                               text target\n",
            "0         1     NaN  ...  Our Deeds are the Reason of this #earthquake M...      1\n",
            "1         4     NaN  ...             Forest fire near La Ronge Sask. Canada      1\n",
            "2         5     NaN  ...  All residents asked to 'shelter in place' are ...      1\n",
            "3         6     NaN  ...  13,000 people receive #wildfires evacuation or...      1\n",
            "4         7     NaN  ...  Just got sent this photo from Ruby #Alaska as ...      1\n",
            "...     ...     ...  ...                                                ...    ...\n",
            "7608  10869     NaN  ...  Two giant cranes holding a bridge collapse int...      1\n",
            "7609  10870     NaN  ...  @aria_ahrary @TheTawniest The out of control w...      1\n",
            "7610  10871     NaN  ...  M1.94 [01:04 UTC]?5km S of Volcano Hawaii. htt...      1\n",
            "7611  10872     NaN  ...  Police investigating after an e-bike collided ...      1\n",
            "7612  10873     NaN  ...  The Latest: More Homes Razed by Northern Calif...      1\n",
            "\n",
            "[7613 rows x 5 columns]\n",
            "\n",
            "\n",
            "<class 'pandas.core.frame.DataFrame'>\n",
            "RangeIndex: 7613 entries, 0 to 7612\n",
            "Data columns (total 5 columns):\n",
            " #   Column    Non-Null Count  Dtype \n",
            "---  ------    --------------  ----- \n",
            " 0   id        7613 non-null   int64 \n",
            " 1   keyword   7552 non-null   object\n",
            " 2   location  5080 non-null   object\n",
            " 3   text      7613 non-null   object\n",
            " 4   target    7613 non-null   int64 \n",
            "dtypes: int64(2), object(3)\n",
            "memory usage: 297.5+ KB\n"
          ],
          "name": "stdout"
        }
      ]
    },
    {
      "cell_type": "markdown",
      "metadata": {
        "id": "GHpib2ktubU5",
        "colab_type": "text"
      },
      "source": [
        "**2) 중복 샘플 제거하기**"
      ]
    },
    {
      "cell_type": "code",
      "metadata": {
        "id": "Lu14Fr6Et9rH",
        "colab_type": "code",
        "colab": {
          "base_uri": "https://localhost:8080/",
          "height": 352
        },
        "outputId": "7c5fe095-1671-464b-a63f-fb80fc723d61"
      },
      "source": [
        "data.drop_duplicates(subset=['text'], inplace=True)\n",
        "print('중복 제거 후 총 샘플의 수 : ', len(data))\n",
        "print()\n",
        "\n",
        "data['target'].value_counts().plot(kind='bar');\n",
        "print(data.groupby('target').size().reset_index(name='count'))"
      ],
      "execution_count": 316,
      "outputs": [
        {
          "output_type": "stream",
          "text": [
            "중복 제거 후 총 샘플의 수 :  7503\n",
            "\n",
            "   target  count\n",
            "0       0   4305\n",
            "1       1   3198\n"
          ],
          "name": "stdout"
        },
        {
          "output_type": "display_data",
          "data": {
            "image/png": "[encoded data removed]",
            "text/plain": [
              "<Figure size 432x288 with 1 Axes>"
            ]
          },
          "metadata": {
            "tags": [],
            "needs_background": "light"
          }
        }
      ]
    },
    {
      "cell_type": "code",
      "metadata": {
        "id": "Ol0I6FkWtlHq",
        "colab_type": "code",
        "colab": {
          "base_uri": "https://localhost:8080/",
          "height": 53
        },
        "outputId": "6ca6a44b-f8b0-4f35-a7c5-c2124b1e6fb5"
      },
      "source": [
        "Texts = data['text']\n",
        "Targets = data['target']\n",
        "print('트위터 text 내용의 개수 : ', len(Texts))\n",
        "print('레이블의 개수 : ', len(Targets));"
      ],
      "execution_count": 317,
      "outputs": [
        {
          "output_type": "stream",
          "text": [
            "트위터 text 내용의 개수 :  7503\n",
            "레이블의 개수 :  7503\n"
          ],
          "name": "stdout"
        }
      ]
    },
    {
      "cell_type": "markdown",
      "metadata": {
        "id": "N8kSEqcHvTap",
        "colab_type": "text"
      },
      "source": [
        "**3) 토큰화, 텍스트 길이 살펴보기**"
      ]
    },
    {
      "cell_type": "code",
      "metadata": {
        "id": "ZjQr7HdvvVdQ",
        "colab_type": "code",
        "colab": {
          "base_uri": "https://localhost:8080/",
          "height": 73
        },
        "outputId": "7957f076-4d72-49f6-bfee-d7bcfb10df4b"
      },
      "source": [
        "tokenizer = Tokenizer()\n",
        "tokenizer.fit_on_texts(Texts)\n",
        "sequences = tokenizer.texts_to_sequences(Texts)\n",
        "print(sequences[:5])\n",
        "print()\n",
        "word_to_index = tokenizer.word_index"
      ],
      "execution_count": 319,
      "outputs": [
        {
          "output_type": "stream",
          "text": [
            "[[117, 4571, 25, 4, 857, 8, 21, 264, 134, 1901, 4572, 89, 40], [185, 43, 233, 782, 6844, 6845, 1383], [40, 1723, 1590, 7, 6846, 6, 6847, 25, 131, 6848, 20, 1724, 39, 426, 282, 57, 2109, 6, 720, 1384, 25, 1085], [817, 2875, 63, 4573, 1478, 282, 1384, 6, 96], [34, 97, 1199, 21, 314, 23, 6849, 2110, 30, 265, 23, 1478, 6850, 70, 5, 186]]\n",
            "\n"
          ],
          "name": "stdout"
        }
      ]
    },
    {
      "cell_type": "code",
      "metadata": {
        "id": "Z5LGEnHnxlnI",
        "colab_type": "code",
        "colab": {
          "base_uri": "https://localhost:8080/",
          "height": 71
        },
        "outputId": "9222ccdd-f407-4fe4-9772-ece931114dc4"
      },
      "source": [
        "threshold = 2\n",
        "total_cnt = len(word_to_index)\n",
        "rare_cnt = 0\n",
        "total_freq = 0\n",
        "rare_freq = 0\n",
        "\n",
        "for key, value in tokenizer.word_counts.items():\n",
        "  total_freq = total_freq + value\n",
        "\n",
        "  if(value < threshold):\n",
        "    rare_cnt = rare_cnt + 1\n",
        "    rare_freq = rare_freq + value\n",
        "\n",
        "print('등장 빈도가 1번 이하인 희귀 단어의 수 : ', rare_cnt)\n",
        "print('단어 집합에서 희귀 단어의 비율 : ', (rare_cnt / total_cnt) * 100)\n",
        "print('전체 등장 빈도에서 희귀 단어 등장 빈도 비율 : ', (rare_cnt/ total_freq) * 100)"
      ],
      "execution_count": 320,
      "outputs": [
        {
          "output_type": "stream",
          "text": [
            "등장 빈도가 1번 이하인 희귀 단어의 수 :  15857\n",
            "단어 집합에서 희귀 단어의 비율 :  69.8546255506608\n",
            "전체 등장 빈도에서 희귀 단어 등장 빈도 비율 :  12.566569454130477\n"
          ],
          "name": "stdout"
        }
      ]
    },
    {
      "cell_type": "code",
      "metadata": {
        "id": "VBoT0A-k0Rj_",
        "colab_type": "code",
        "colab": {
          "base_uri": "https://localhost:8080/",
          "height": 71
        },
        "outputId": "31db54df-e11b-413e-f187-41d65089cdd9"
      },
      "source": [
        "Texts = sequences\n",
        "print('텍스트의 최대 길이 : ', max(len(l) for l in Texts))\n",
        "print('텍스트의 최소 길이 : ', min(len(l) for l in Texts))\n",
        "print('텍스트의 평균 길이 : ', (sum(map(len, Texts))/len(Texts)))"
      ],
      "execution_count": 321,
      "outputs": [
        {
          "output_type": "stream",
          "text": [
            "텍스트의 최대 길이 :  33\n",
            "텍스트의 최소 길이 :  1\n",
            "텍스트의 평균 길이 :  16.817806210848993\n"
          ],
          "name": "stdout"
        }
      ]
    },
    {
      "cell_type": "code",
      "metadata": {
        "id": "D-G1YjeC0n1Q",
        "colab_type": "code",
        "colab": {
          "base_uri": "https://localhost:8080/",
          "height": 279
        },
        "outputId": "f12f8bc4-9fba-49b1-a131-d4eb9824422a"
      },
      "source": [
        "plt.hist([len(s) for s in Texts], bins=30)\n",
        "plt.xlabel('length of samples')\n",
        "plt.ylabel('number of samples')\n",
        "plt.show()"
      ],
      "execution_count": 322,
      "outputs": [
        {
          "output_type": "display_data",
          "data": {
            "image/png": "[encoded data removed]",
            "text/plain": [
              "<Figure size 432x288 with 1 Axes>"
            ]
          },
          "metadata": {
            "tags": [],
            "needs_background": "light"
          }
        }
      ]
    },
    {
      "cell_type": "markdown",
      "metadata": {
        "id": "CzXuljsq_Am8",
        "colab_type": "text"
      },
      "source": [
        "**4) 빈도 수가 낮은 희귀 단어 제거하기**"
      ]
    },
    {
      "cell_type": "code",
      "metadata": {
        "id": "7cxd5wfK96pd",
        "colab_type": "code",
        "colab": {}
      },
      "source": [
        "Texts = data['text']\n",
        "tokenizer = Tokenizer(num_words = total_cnt - rare_cnt + 1)\n",
        "tokenizer.fit_on_texts(Texts)\n",
        "sequences = tokenizer.texts_to_sequences(Texts)\n",
        "word_to_index = tokenizer.word_index"
      ],
      "execution_count": 0,
      "outputs": []
    },
    {
      "cell_type": "markdown",
      "metadata": {
        "id": "o2EJ_yLw_vKp",
        "colab_type": "text"
      },
      "source": [
        "**5) 길이가 3 이하인 단어 제거하기**"
      ]
    },
    {
      "cell_type": "code",
      "metadata": {
        "id": "UCQt4yLy_iqU",
        "colab_type": "code",
        "colab": {
          "base_uri": "https://localhost:8080/",
          "height": 73
        },
        "outputId": "e034e53e-c832-4244-80d5-b074889ea43e"
      },
      "source": [
        "print('길이 3 이하인 단어 제거 : ')\n",
        "for word in word_to_index.items():\n",
        "  if len(word[0]) <= 3:\n",
        "    print(word[0], end = ' ')\n",
        "    for sequence in sequences:\n",
        "      if word[1] in sequence:\n",
        "        sequence.remove(word[1])"
      ],
      "execution_count": 324,
      "outputs": [
        {
          "output_type": "stream",
          "text": [
            "길이 3 이하인 단어 제거 : \n",
            "t co the a in to of and i is for on you my it at by be are was amp as me up but so not out no all an has i'm get now we if new via 2 or one how he who do can ' 3 u her his us day off got 1 why man had rt s see our two gt go 4 car 5 may war say did way too w its am lol old hot û 8 pm him 9 she let any 6 god im top hit oil 10 15 ass set 08 m 11 run bad 7 red end 70 air big p bag ûò 40 05 n ok bus d 30 o 0 put saw oh st use lot b 00 r due c few lt fan yet 50 ur far 16 men mp die fun lab yes pic sue ûó 06 ago i'd abc low pkk job bc own 25 hey bar tv x 01 hat rd e la 20 mom 17 boy aug 13 guy 12 usa wow win omg gun 60 bbc uk try 'i 100 ca eye mad cnn 18 24 ûï dog vs mph sea gop sad sex led dr dad bed gas art buy ppl nws rly sky v cut de cdt aba 29 act f 07 mod ap sun re med map 600 nyc ave wtf bit 22 û 1st hi tho fat san 04 cat apc el 21 l gay bay ice box 2nd 90 kid non mix dan mr ft 130 nc bin un jeb sit ii son ban ask 26 kit yyc pdp hwy edm 23 gov rip cop 14 j 300 da lie yo gm won rn joe app pay nah ah h etc ceo lil ar six ian 09 org bro thx ben g em 4x4 ya dc 's smh al 35 af pre 500 di ten wa utc 5km fog edt hwo 19 eat ny ems 'if tax add row bet blk id aka 75 32 mid max ray k va yrs fox joy pop ha 'it ep inj aim law sw mt aid wx mac cuz 101 77 31 'we fyi mma 150 dnb exp til 5th pak 99 sir huh ms 95 pc se hip yr fr pro idk ran ted fix sat 52 54 tom gta cry pls ex xd 02 jam 4wd wed 33' en dvd av 03 ps 320 ir mlb bob ww1 mo tbt yay 34 bat 28 cdc yea cia 27 ugh hes cup 'a tea hop po 2pm wet tag nu md pin jan fav i5 gps pam 36 np dry nd b4 age th nfl com hd van z10 dk bjp sû 45 leg 3g cbc 731 pov 000 los ig gon mfs eu cr dtn lez rob xp' len z hmm jax iii wht lgl fbi y jr leo fam lip pun ear tf ty bp jay tr dat jet cos www dam 43 idc 48 åè sa cum rid åê suv sac eb fwy mi bug 5pm wy 3rd val bff rep 370 odd bid 39 57 fly 97 msf ego 911 rs ns eq 94 nw ink ill wit 133 cap 1' 18w 166 375 sub sp oc jst min esh hah 80 fb nb sb cad nhs kca esp per gf doc gmt vid 360 cd eh 78 wwi ik aa col q bts tb afp dj gem bu ash wo gel toe dq ima sin xxx bs ga ee 6th oak fit lay arm ahh mf fed ed op nap dem er btw sf bee 87 wi 'my 200 ag maj log bio gym wnd rwy tmp dis ne cm key cam jim abe å¨ me' fkn sms jon dw csx cow fd cta mum iû ops ut bot aw 55 wom nm ev sm m1 ak vet hr tie las mkx 8th yep 109 sws vip cue aû mud lrt 69 gg os ts nri trs tdp nba nyt zak wee 361 cfc wmv 'by 58 sr 540 nh 115 xb1 tc ps4 hmu hû gig ohh xv 125 del rey mc rmg oth dhs nwo pt 124 cab pol nhl tix 103 mgm wd bû dom rap 800 582 rio dey fir apt que cee asf rev m4 107 fm tak te ron 37 mic wod ve hoe 106 38 s2g tan å jp rec ovo wwe 98 cas abu gif ooh et uh atk pp bg tû 1m nor åç nbc 'go 4th 3x fri tlc opp 405 con 33 wce fez wen ive km cus 030 cld fi 9pm wfp tor nda inc afc era rss 53 urs bal psa 9am si atl 4' thy snd sj wb 0l wpt 917 bmw 158 213 ma tim ke idp 180 gn nv llf sep rat vi raw pit 4km tin ml cs ssw nnw atm ac 65 5' fte 7p 7a 30a '7' 039 ks 49 56 dye tn 114 tch bn dm sn zss pan pû '30 wcw tha 'an jkl ky 12' 72w 27w utv soo dvc nj mû ch4 unr cc ads dlh meg bi ars 96 cod aq ad 928 495 rb bwp 140 a1 a5 1a 5s 5c gum cbs def mil fur oks stu hug net ay nrc acc sis tv' lnp nan met 163 suh boi ww2 thu tj ll 64 wud ctd oun it' hew gpm 3m 41 208 267 pa exc epl r21 mar 8m mir 752 999 293 3a wpd anu cya ã¢ bb 4tp g90 dna abs mba lgm az m8 'x 4pm hsu hao nsa tos plz 2a eep gog lee pd mop ìñ1 72 66 gen mrc ae bk smb ary cis 172 lvl xl roy spx 171 gyp ltz rbi ìñ fdx les biz vp pox ai 88 92 hhs sys onu 74 chi 547 lan 420 760 bbm gfe yee haw ch pl mb q1 ime up' rq '11 ye cle auz cst hrs lwb sg cg 290 hem '83 elm a3 rs5 cgi uhc bsg ra 6c å¤ 419 ìü nuu fwt bez br lac zip 238 pvc vû bye jen umm js loo 'is wr lax ri akh 90s mpp ani aan den kou lit mat ton 160 rdg mht nut 129 qvc 202 rl sip 501 lou web ika mv be4 ali nvr co2 oct nsw 30m pbs hoc 2' rpn ov q2 nar rom v4 627 otm esn tee ââ sl rsa bd '60 bhp jfb tfb gut cpr ler 'as sts eau 688 mlg ssp aeg 061 oo g3 b2 fe i10 eo onr eto qew ofr 18' mm 459 cs6 4am ux emv pos tru luv ttw skh bf ter ell ina moe '13 yum ara ypg 060 qnh tlk nuh itz knw lim leh 4k 45m 60m na ln wha imo 'ur uve 'h apr dmd s61 ham nov yh don otp uû i77 83 bsf aks sk1 fco nlm vtc pt1 ing ren b2b 350 sul ris bcz oup ogt ant ce xgn '14 kp jar epa bo3 159 der ffa mh bv ipo mpc tip cri ser eve ls sq mgr tg ind ib hub hav sht alt psm 138 uv gin ghe noi sow wii eur reg 12m ppc 148 ryt ate kc sni twx 't fn 319 cnv gh hue 1x1 jtw dix åêm v6 994 033 5l l6 410 koz smp 924 rsx l4 141 250 6l v8 pll 93 lad 'er cû yyj 10m har ki hai sux iot 80m bud utp brb srs hw 'en fee i15 q13 8km rc mag gns gpv wnw 3km 1km nne ds tub ftw mp3 rar stl ace 544 x2 mre 415 751 aul akx 143 frp dec h20 fci 311 660 'm go' tx gba ctr 30p tfl 3p 210 wld nic 'so fwd hlg dnj gc twi cty trc nwt yzf rin emi 105 kai 51 hua cai guo bj est pb ugc unu rwa sh apd 30s pee nra 179 emp veg 662 hse 82 osp dlc 616 pbx rig mk2 uud lk 40w mk tcc c7 be' gd 925 3x5 325 avi mn icy rum 'û bon rfp 450 ufn pat k3 chp ims ho rgj nno fl 10k gis int 'no rp bod thh cw sam izi lag hay emo tfw 452 10x 12v 24v 85v 10w pir auc hfo 4'' atv bmx elk ny1 jus 966 dew dmt fab etp dua e1 voc ori 15p pet nf pub b1g lzk dak jak rnk zel kno sd res 25' 20k mmk 198 528 530 740 oem mav eco gms mtr psd oli tbs gv uae 3la pdx abq vol mas fel tow u2 utd jag 21k mcr 80s wut lh ssu 178 pg div byr 20' 91 yug 184 pga 516 urg mx ba icc dal pft nyg jj gio skc io srk wk kro s5 faq ebb q99 nl a10 a40 a7 a2 gû 89x lbr usd 48' 67 u'd uke yu ps3 pci eû 034 mfi ooc 629 dip guk iit che 615 ''' afk wsj wpo iof 513 ol' dfr g7 g20 dtb 550 16' 62 kgb oso bae 'up ajw upi wps agw 573 err 509 r74 lvg lcb cl jez 149 gap 7k hcg soz 'us ww3 cte ja sha syd oi sec fo tod upa sfa iso psp sto ps1 beg 797 amo idm bcs hs2 vic qld ana pot dt kia hm dl iwk doe spa rsf gag 46 ud kfc fwo 367 44 fu fem bah û¢ dee dum duo su dû jun wtc p2 tnn mta foo bel woo hoo hs 6pm sif tbh at' asb txt 1d wwa lhh gd' 666 ram kay ey zar 15t qty m5 kml 2d 3d yor m3 ipa cgg wû mrw goz ru sel jfc dig tna att aar sef '' nsf awn nbn åêi um vì deo vai vir pra bck bre 3am tic tac 737 atc 358 ama pt4 ou 905 877 cts soc jul yup trp mlk ish lds ww wew nui loa 20s 2am 390 otd pow thr 'rt ì¢ lu ifs nia tht duh 12u cn wc pes em' 68 61 pea mdt ocd xo ski mon poc pod ava 'be mcv tbr gr rv nz qz a1a 60s usg tat dx wbu egg bak mia 950 tae omw 24' 3dc edk å£9 tu pug db5 usw aus tt lyf ef tra pup wth hil gi ps2 ct '02 xii es au tps tdm dub lcc nro gal 6m exo ab fa cal sen wn ect 'am khq ij ode lga 2b wwp 75k 52k oif oef rub 79 rag hea 7' 777 239 liv mlm wgg jt fx dei 9km "
          ],
          "name": "stdout"
        }
      ]
    },
    {
      "cell_type": "markdown",
      "metadata": {
        "id": "epbLCiVB2B_u",
        "colab_type": "text"
      },
      "source": [
        "**6) RNN으로 분류하기**"
      ]
    },
    {
      "cell_type": "code",
      "metadata": {
        "id": "69-SCfQO2RfN",
        "colab_type": "code",
        "colab": {
          "base_uri": "https://localhost:8080/",
          "height": 89
        },
        "outputId": "0ac01733-182d-4f33-ad77-e3ad522e03c1"
      },
      "source": [
        "max_len = max(len(l) for l in sequences)\n",
        "data = pad_sequences(sequences, maxlen = max_len)\n",
        "print('훈련 데이터의 shape: ', data.shape)\n",
        "\n",
        "n_of_train = int(len(Texts)* 0.9)\n",
        "print('전체 데이터의 크기 : ', len(Texts))\n",
        "print('훈련 데이터의 크기 : ', n_of_train)\n",
        "print('테스트 데이터의 크기 : ', len(Texts) - n_of_train)\n",
        "\n",
        "X_test = data[n_of_train:]\n",
        "Y_test = np.array(Targets[n_of_train:])\n",
        "X_train = data[:n_of_train]\n",
        "Y_train = np.array(Targets[:n_of_train])"
      ],
      "execution_count": 325,
      "outputs": [
        {
          "output_type": "stream",
          "text": [
            "훈련 데이터의 shape:  (7503, 21)\n",
            "전체 데이터의 크기 :  7503\n",
            "훈련 데이터의 크기 :  6752\n",
            "테스트 데이터의 크기 :  751\n"
          ],
          "name": "stdout"
        }
      ]
    },
    {
      "cell_type": "code",
      "metadata": {
        "id": "iWQf3WNr2GGN",
        "colab_type": "code",
        "colab": {
          "base_uri": "https://localhost:8080/",
          "height": 161
        },
        "outputId": "1d9d9c3f-9e8d-4d5d-aab7-f57eb2bc7005"
      },
      "source": [
        "from tensorflow.keras.layers import SimpleRNN, Embedding, Dense\n",
        "from tensorflow.keras.models import Sequential\n",
        "\n",
        "vocab_size = len(word_to_index) + 1\n",
        "\n",
        "model = Sequential()\n",
        "model.add(Embedding(vocab_size, 32))\n",
        "model.add(SimpleRNN(32))\n",
        "model.add(Dense(1, activation = 'sigmoid'))\n",
        "\n",
        "model.compile(optimizer='rmsprop', loss='binary_crossentropy', metrics=['acc'])\n",
        "history = model.fit(X_train, Y_train, epochs = 4, batch_size = 256, validation_split = 0.3)"
      ],
      "execution_count": 326,
      "outputs": [
        {
          "output_type": "stream",
          "text": [
            "Epoch 1/4\n",
            "19/19 [==============================] - 0s 24ms/step - loss: 0.6529 - acc: 0.6168 - val_loss: 0.6427 - val_acc: 0.6545\n",
            "Epoch 2/4\n",
            "19/19 [==============================] - 0s 17ms/step - loss: 0.5195 - acc: 0.7723 - val_loss: 0.5765 - val_acc: 0.7043\n",
            "Epoch 3/4\n",
            "19/19 [==============================] - 0s 16ms/step - loss: 0.3884 - acc: 0.8436 - val_loss: 0.5617 - val_acc: 0.7132\n",
            "Epoch 4/4\n",
            "19/19 [==============================] - 0s 16ms/step - loss: 0.3244 - acc: 0.8758 - val_loss: 0.5638 - val_acc: 0.7295\n"
          ],
          "name": "stdout"
        }
      ]
    },
    {
      "cell_type": "code",
      "metadata": {
        "id": "uXbX9KuD5DZt",
        "colab_type": "code",
        "colab": {
          "base_uri": "https://localhost:8080/",
          "height": 71
        },
        "outputId": "6f542556-6520-4cfc-95b0-865e8e658165"
      },
      "source": [
        "print(\"\\n 테스트 정확도 : %.3f\" % (model.evaluate(X_test, Y_test)[1]))"
      ],
      "execution_count": 327,
      "outputs": [
        {
          "output_type": "stream",
          "text": [
            "24/24 [==============================] - 0s 3ms/step - loss: 0.5207 - acc: 0.7324\n",
            "\n",
            " 테스트 정확도 : 0.732\n"
          ],
          "name": "stdout"
        }
      ]
    },
    {
      "cell_type": "code",
      "metadata": {
        "id": "OTb72TLF5mD2",
        "colab_type": "code",
        "colab": {
          "base_uri": "https://localhost:8080/",
          "height": 295
        },
        "outputId": "1bd8ef57-865e-4555-a50a-9150802f16ed"
      },
      "source": [
        "epochs = range(1, len(history.history['acc']) + 1)\n",
        "plt.plot(epochs, history.history['loss'])\n",
        "plt.plot(epochs, history.history['val_loss'])\n",
        "plt.title('model loss')\n",
        "plt.ylabel('loss')\n",
        "plt.xlabel('epoch')\n",
        "plt.legend(['train', 'val'], loc = 'upper left')\n",
        "plt.show()"
      ],
      "execution_count": 328,
      "outputs": [
        {
          "output_type": "display_data",
          "data": {
            "image/png": "[encoded data removed]",
            "text/plain": [
              "<Figure size 432x288 with 1 Axes>"
            ]
          },
          "metadata": {
            "tags": [],
            "needs_background": "light"
          }
        }
      ]
    }
  ]
}